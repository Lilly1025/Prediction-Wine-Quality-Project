{
 "cells": [
  {
   "cell_type": "markdown",
   "metadata": {},
   "source": [
    "Red Wine Prediction with SVM"
   ]
  },
  {
   "cell_type": "code",
   "execution_count": 1,
   "metadata": {},
   "outputs": [],
   "source": [
    "import numpy as np\n",
    "import pandas as pd\n",
    "import seaborn as sns\n",
    "import matplotlib.pyplot as plt\n",
    "from sklearn import preprocessing \n",
    "plt.style.use(\"ggplot\")  #using style ggplot\n",
    "from sklearn.metrics import accuracy_score, confusion_matrix\n"
   ]
  },
  {
   "cell_type": "markdown",
   "metadata": {},
   "source": [
    "Load red wine quality Dataset"
   ]
  },
  {
   "cell_type": "code",
   "execution_count": 2,
   "metadata": {},
   "outputs": [],
   "source": [
    "%matplotlib inline\n",
    "red_wine = pd.read_csv('../winequality-red.csv', delimiter=';')"
   ]
  },
  {
   "cell_type": "markdown",
   "metadata": {},
   "source": [
    "Preprocessing Data for performing SVM algorithms"
   ]
  },
  {
   "cell_type": "code",
   "execution_count": 3,
   "metadata": {},
   "outputs": [],
   "source": [
    "#Making binary classificaion for the response variable.\n",
    "#Dividing wine as good and bad by giving the limit for the quality\n",
    "bins = (2, 5, 8)\n",
    "group_names = ['0', '1']\n",
    "red_wine['quality'] = pd.cut(red_wine['quality'], bins = bins, labels = group_names)"
   ]
  },
  {
   "cell_type": "code",
   "execution_count": 4,
   "metadata": {},
   "outputs": [
    {
     "name": "stdout",
     "output_type": "stream",
     "text": [
      "<class 'pandas.core.frame.DataFrame'>\n",
      "RangeIndex: 1599 entries, 0 to 1598\n",
      "Data columns (total 12 columns):\n",
      " #   Column                Non-Null Count  Dtype   \n",
      "---  ------                --------------  -----   \n",
      " 0   fixed acidity         1599 non-null   float64 \n",
      " 1   volatile acidity      1599 non-null   float64 \n",
      " 2   citric acid           1599 non-null   float64 \n",
      " 3   residual sugar        1599 non-null   float64 \n",
      " 4   chlorides             1599 non-null   float64 \n",
      " 5   free sulfur dioxide   1599 non-null   float64 \n",
      " 6   total sulfur dioxide  1599 non-null   float64 \n",
      " 7   density               1599 non-null   float64 \n",
      " 8   pH                    1599 non-null   float64 \n",
      " 9   sulphates             1599 non-null   float64 \n",
      " 10  alcohol               1599 non-null   float64 \n",
      " 11  quality               1599 non-null   category\n",
      "dtypes: category(1), float64(11)\n",
      "memory usage: 139.2 KB\n"
     ]
    }
   ],
   "source": [
    "red_wine.info()"
   ]
  },
  {
   "cell_type": "code",
   "execution_count": 5,
   "metadata": {},
   "outputs": [
    {
     "name": "stdout",
     "output_type": "stream",
     "text": [
      "quality\n",
      "1    855\n",
      "0    744\n",
      "Name: count, dtype: int64\n"
     ]
    },
    {
     "data": {
      "image/png": "[encoded data removed]",
      "text/plain": [
       "<Figure size 640x480 with 1 Axes>"
      ]
     },
     "metadata": {},
     "output_type": "display_data"
    }
   ],
   "source": [
    "sns.histplot(data=red_wine, x=\"quality\",hue='quality',palette=['#663f9e',\"#d42875\"])\n",
    "counts = red_wine['quality'].value_counts()\n",
    "\n",
    "# Print the value counts\n",
    "print(counts)"
   ]
  },
  {
   "cell_type": "code",
   "execution_count": 6,
   "metadata": {},
   "outputs": [],
   "source": [
    "# sns.countplot(data = red_wine, x = 'quality', hue = 'quality',palette=['#663f9e',\"#d42875\"])\n",
    "# plt.xticks([0,1], ['bad wine','good wine'])\n",
    "# plt.title(\"Types of Wine Quality\")\n",
    "\n",
    "# plt.show()"
   ]
  },
  {
   "cell_type": "code",
   "execution_count": 7,
   "metadata": {},
   "outputs": [
    {
     "name": "stdout",
     "output_type": "stream",
     "text": [
      "(1599, 11)\n",
      "(1599,)\n"
     ]
    }
   ],
   "source": [
    "#convert data type to numeric\n",
    "red_wine = red_wine.astype('float64')\n",
    "red_wine['quality'] = red_wine['quality'].astype('int64')\n",
    "\n",
    "# Add 'alcohol' and 'fixed acidity' columns from red wine dataset to data_X\n",
    "data_X = red_wine.drop('quality', axis=1)\n",
    "data_y = red_wine['quality']\n",
    "\n",
    "print(data_X.shape)\n",
    "print(data_y.shape)"
   ]
  },
  {
   "cell_type": "code",
   "execution_count": 8,
   "metadata": {},
   "outputs": [],
   "source": [
    "def train_test_split(X,y,test_size):\n",
    "    test_size = test_size\n",
    "    train_size = 1 - float(test_size)\n",
    "    total_rows = red_wine.shape[0]\n",
    "    split =  int(total_rows * (train_size))\n",
    "    X_train = data_X[0:split]\n",
    "    X_test = data_X[split:]\n",
    "    y_train = data_y[0:split]\n",
    "    y_test = data_y[split:]\n",
    "    return X_train, X_test, y_train, y_test"
   ]
  },
  {
   "cell_type": "code",
   "execution_count": 9,
   "metadata": {},
   "outputs": [],
   "source": [
    "X_train, X_test, y_train, y_test = train_test_split(data_X, data_y, test_size=0.2)"
   ]
  },
  {
   "cell_type": "code",
   "execution_count": 10,
   "metadata": {},
   "outputs": [
    {
     "name": "stdout",
     "output_type": "stream",
     "text": [
      "X train: 1279\n",
      "X test: 320\n",
      "y train: 1279\n",
      "y test: 320\n"
     ]
    }
   ],
   "source": [
    "print(\"X train:\",len(X_train))\n",
    "print(\"X test:\",len(X_test))\n",
    "print(\"y train:\",len(y_train))\n",
    "print(\"y test:\",len(y_test))"
   ]
  },
  {
   "cell_type": "code",
   "execution_count": 11,
   "metadata": {},
   "outputs": [],
   "source": [
    "y_train[y_train == 0] = -1\n",
    "y_test[y_test == 0] = -1"
   ]
  },
  {
   "cell_type": "code",
   "execution_count": 12,
   "metadata": {},
   "outputs": [
    {
     "data": {
      "text/plain": [
       "quality\n",
       " 1    694\n",
       "-1    585\n",
       "Name: count, dtype: int64"
      ]
     },
     "execution_count": 12,
     "metadata": {},
     "output_type": "execute_result"
    }
   ],
   "source": [
    "data_y_counts = y_train.value_counts()\n",
    "data_y_counts"
   ]
  },
  {
   "cell_type": "code",
   "execution_count": 13,
   "metadata": {},
   "outputs": [
    {
     "data": {
      "text/plain": [
       "quality\n",
       " 1    161\n",
       "-1    159\n",
       "Name: count, dtype: int64"
      ]
     },
     "execution_count": 13,
     "metadata": {},
     "output_type": "execute_result"
    }
   ],
   "source": [
    "data_y_counts = y_test.value_counts()\n",
    "data_y_counts"
   ]
  },
  {
   "cell_type": "code",
   "execution_count": 14,
   "metadata": {},
   "outputs": [],
   "source": [
    "class SVM:\n",
    "    def __init__(self, learning_rate, lambda_param, n_iterations):\n",
    "        self.learning_rate = learning_rate\n",
    "        self.lambda_param = lambda_param\n",
    "        self.n_iterations = n_iterations\n",
    "        self.w = None\n",
    "        self.b = None\n",
    "\n",
    "    def fit(self, X, y):\n",
    "        n_samples, n_features = X.shape\n",
    "        self.w = np.zeros(n_features)\n",
    "        self.b = 1000\n",
    "\n",
    "        for _ in range(self.n_iterations):\n",
    "            for idx, x_i in enumerate(X):\n",
    "                condition = y[idx] * (np.dot(x_i, self.w) - self.b) >= 1\n",
    "                if condition:\n",
    "                    self.w -= self.learning_rate * (2 * self.lambda_param * self.w)\n",
    "                else:\n",
    "                    self.w -= self.learning_rate * (2 * self.lambda_param * self.w - np.dot(x_i, y[idx]))\n",
    "                    self.b -= self.learning_rate * y[idx]\n",
    "\n",
    "    def predict(self, X):\n",
    "        linear_output = np.dot(X, self.w) - self.b\n",
    "        return np.sign(linear_output)"
   ]
  },
  {
   "cell_type": "code",
   "execution_count": 15,
   "metadata": {},
   "outputs": [],
   "source": [
    "svm_model = SVM(learning_rate=0.001,lambda_param=0.0001,n_iterations=1000)\n",
    "svm_model.fit(X_train.to_numpy(), y_train.to_numpy())"
   ]
  },
  {
   "cell_type": "code",
   "execution_count": 16,
   "metadata": {},
   "outputs": [
    {
     "name": "stdout",
     "output_type": "stream",
     "text": [
      "Accuracy Score: 67.5 %\n"
     ]
    }
   ],
   "source": [
    "svm_y_pred = svm_model.predict(X_test.to_numpy())\n",
    "accuracy = accuracy_score(svm_y_pred, y_test)\n",
    "print('Accuracy Score:', float(accuracy*100),\"%\")"
   ]
  },
  {
   "cell_type": "code",
   "execution_count": 17,
   "metadata": {},
   "outputs": [
    {
     "name": "stdout",
     "output_type": "stream",
     "text": [
      "Predicted quality of red wine: ['GOOD' 'GOOD' 'GOOD' 'GOOD' 'GOOD' 'GOOD' 'GOOD' 'GOOD' 'GOOD' 'GOOD'\n",
      " 'GOOD' 'GOOD' 'GOOD' 'GOOD' 'BAD' 'GOOD' 'BAD' 'BAD' 'GOOD' 'GOOD' 'GOOD'\n",
      " 'GOOD' 'GOOD' 'GOOD' 'GOOD' 'BAD' 'BAD' 'GOOD' 'GOOD' 'GOOD' 'BAD' 'BAD'\n",
      " 'GOOD' 'GOOD' 'BAD' 'BAD' 'BAD' 'GOOD' 'GOOD' 'BAD' 'BAD' 'GOOD' 'GOOD'\n",
      " 'GOOD' 'GOOD' 'GOOD' 'GOOD' 'GOOD' 'GOOD' 'BAD' 'BAD' 'BAD' 'BAD' 'BAD'\n",
      " 'BAD' 'BAD' 'GOOD' 'BAD' 'BAD' 'BAD' 'GOOD' 'GOOD' 'GOOD' 'GOOD' 'GOOD'\n",
      " 'GOOD' 'BAD' 'GOOD' 'BAD' 'BAD' 'GOOD' 'GOOD' 'GOOD' 'GOOD' 'GOOD' 'BAD'\n",
      " 'BAD' 'BAD' 'GOOD' 'BAD' 'GOOD' 'GOOD' 'GOOD' 'GOOD' 'BAD' 'GOOD' 'BAD'\n",
      " 'BAD' 'GOOD' 'BAD' 'BAD' 'BAD' 'GOOD' 'BAD' 'BAD' 'BAD' 'BAD' 'BAD'\n",
      " 'GOOD' 'BAD' 'GOOD' 'GOOD' 'BAD' 'GOOD' 'GOOD' 'BAD' 'BAD' 'BAD' 'BAD'\n",
      " 'BAD' 'BAD' 'GOOD' 'GOOD' 'BAD' 'GOOD' 'BAD' 'BAD' 'BAD' 'BAD' 'GOOD'\n",
      " 'GOOD' 'GOOD' 'GOOD' 'GOOD' 'BAD' 'GOOD' 'GOOD' 'GOOD' 'GOOD' 'GOOD'\n",
      " 'GOOD' 'GOOD' 'GOOD' 'GOOD' 'GOOD' 'BAD' 'BAD' 'BAD' 'GOOD' 'BAD' 'GOOD'\n",
      " 'BAD' 'BAD' 'GOOD' 'GOOD' 'BAD' 'BAD' 'GOOD' 'GOOD' 'GOOD' 'GOOD' 'GOOD'\n",
      " 'BAD' 'GOOD' 'BAD' 'BAD' 'BAD' 'BAD' 'GOOD' 'BAD' 'GOOD' 'GOOD' 'BAD'\n",
      " 'BAD' 'GOOD' 'GOOD' 'BAD' 'BAD' 'BAD' 'BAD' 'GOOD' 'GOOD' 'GOOD' 'GOOD'\n",
      " 'BAD' 'GOOD' 'GOOD' 'GOOD' 'BAD' 'GOOD' 'GOOD' 'GOOD' 'BAD' 'BAD' 'GOOD'\n",
      " 'BAD' 'BAD' 'BAD' 'GOOD' 'BAD' 'BAD' 'BAD' 'GOOD' 'GOOD' 'GOOD' 'BAD'\n",
      " 'GOOD' 'BAD' 'GOOD' 'BAD' 'GOOD' 'BAD' 'GOOD' 'BAD' 'GOOD' 'GOOD' 'BAD'\n",
      " 'BAD' 'GOOD' 'GOOD' 'GOOD' 'GOOD' 'GOOD' 'GOOD' 'GOOD' 'BAD' 'GOOD'\n",
      " 'GOOD' 'GOOD' 'GOOD' 'GOOD' 'BAD' 'BAD' 'BAD' 'GOOD' 'GOOD' 'BAD' 'GOOD'\n",
      " 'GOOD' 'GOOD' 'GOOD' 'BAD' 'BAD' 'BAD' 'GOOD' 'BAD' 'BAD' 'GOOD' 'GOOD'\n",
      " 'GOOD' 'BAD' 'GOOD' 'BAD' 'GOOD' 'GOOD' 'BAD' 'BAD' 'BAD' 'GOOD' 'GOOD'\n",
      " 'GOOD' 'GOOD' 'BAD' 'BAD' 'BAD' 'GOOD' 'BAD' 'GOOD' 'BAD' 'GOOD' 'GOOD'\n",
      " 'GOOD' 'GOOD' 'GOOD' 'GOOD' 'GOOD' 'BAD' 'BAD' 'GOOD' 'GOOD' 'GOOD' 'BAD'\n",
      " 'BAD' 'GOOD' 'BAD' 'GOOD' 'GOOD' 'BAD' 'GOOD' 'BAD' 'GOOD' 'GOOD' 'GOOD'\n",
      " 'BAD' 'BAD' 'BAD' 'GOOD' 'GOOD' 'BAD' 'BAD' 'GOOD' 'GOOD' 'GOOD' 'BAD'\n",
      " 'GOOD' 'BAD' 'GOOD' 'GOOD' 'GOOD' 'GOOD' 'GOOD' 'GOOD' 'GOOD' 'GOOD'\n",
      " 'BAD' 'GOOD' 'GOOD' 'GOOD' 'GOOD' 'GOOD' 'BAD' 'GOOD' 'GOOD' 'GOOD' 'BAD'\n",
      " 'GOOD' 'GOOD' 'GOOD' 'BAD' 'GOOD']\n",
      "320\n"
     ]
    }
   ],
   "source": [
    "# Predict using the trained SVM model\n",
    "# Map predicted labels back to original labels\n",
    "svm_y_pred_mapped = np.where(svm_y_pred == 1, \"GOOD\", \"BAD\")  # Assuming 1 is mapped to good grade , and -1 is mapped to bad grade\n",
    "\n",
    "# Print the predicted quality\n",
    "print(\"Predicted quality of red wine:\" ,svm_y_pred_mapped)\n",
    "print(len(svm_y_pred_mapped))"
   ]
  },
  {
   "cell_type": "code",
   "execution_count": 18,
   "metadata": {},
   "outputs": [
    {
     "name": "stdout",
     "output_type": "stream",
     "text": [
      "Hinge Loss on Test Data: 0.65\n"
     ]
    }
   ],
   "source": [
    "def hinge_loss(y_true, y_pred):\n",
    "    return np.maximum(0, 1 - y_true * y_pred).mean()\n",
    "\n",
    "# Calculate the hinge loss for the test data\n",
    "test_hinge_loss = hinge_loss(y_test.to_numpy(), svm_y_pred)\n",
    "print(\"Hinge Loss on Test Data:\", test_hinge_loss)"
   ]
  },
  {
   "cell_type": "code",
   "execution_count": 19,
   "metadata": {},
   "outputs": [
    {
     "data": {
      "image/png": "[encoded data removed]",
      "text/plain": [
       "<Figure size 600x600 with 1 Axes>"
      ]
     },
     "metadata": {},
     "output_type": "display_data"
    }
   ],
   "source": [
    "from sklearn.metrics import confusion_matrix\n",
    "cm = confusion_matrix(y_true=y_test, y_pred=svm_y_pred)\n",
    "df1 = pd.DataFrame(columns=[\"BAD\",\"GOOD\"], index= [\"BAD\",\"GOOD\"], data= cm )\n",
    "\n",
    "f,ax = plt.subplots(figsize=(6,6))\n",
    "\n",
    "sns.heatmap(df1, annot=True,cmap=\"Reds\", fmt= '.0f',ax=ax,linewidths = 5, cbar = False)\n",
    "plt.xlabel(\"Predicted Label\")\n",
    "plt.xticks(size = 12)\n",
    "plt.yticks(size = 12, rotation = 0)\n",
    "plt.ylabel(\"True Label\")\n",
    "plt.title(\"Confusion Matrix\", size = 12)\n",
    "plt.show()"
   ]
  },
  {
   "cell_type": "code",
   "execution_count": 20,
   "metadata": {},
   "outputs": [
    {
     "name": "stdout",
     "output_type": "stream",
     "text": [
      "Predicted quality of new red wine samples: ['BAD' 'GOOD' 'GOOD' 'BAD' 'GOOD']\n",
      "Actual quality of new red wine samples: [-1 -1 -1 -1 -1]\n"
     ]
    }
   ],
   "source": [
    "# Future Predictions\n",
    "# Select or create new data points for prediction\n",
    "new_redwine = red_wine.sample(5)\n",
    "\n",
    "# Extract features for prediction\n",
    "new_data_X = new_redwine.drop('quality', axis=1)\n",
    "new_data_y = new_redwine[['quality']]\n",
    "\n",
    "# Make predictions using the trained SVM model\n",
    "svm_y_pred_new = svm_model.predict(new_data_X.to_numpy())\n",
    "\n",
    "# Map predicted labels to meaningful categories if necessary\n",
    "svm_y_pred_mapped = np.where(svm_y_pred_new == 1, \"GOOD\", \"BAD\")\n",
    "\n",
    "# Print the predicted quality labels\n",
    "print(\"Predicted quality of new red wine samples:\", svm_y_pred_mapped)\n",
    "\n",
    "# Print the actual quality labels for comparison\n",
    "print(\"Actual quality of new red wine samples:\" , new_redwine['quality'].values)"
   ]
  },
  {
   "cell_type": "code",
   "execution_count": 21,
   "metadata": {},
   "outputs": [
    {
     "name": "stdout",
     "output_type": "stream",
     "text": [
      "Hinge Loss on data prediction: 1.2\n"
     ]
    }
   ],
   "source": [
    "def new_hinge_loss(y_true, y_pred):\n",
    "    return np.maximum(0, 1 - y_true * y_pred).mean()\n",
    "\n",
    "# Calculate the hinge loss for the test data\n",
    "new_hinge_loss = hinge_loss(new_data_y.to_numpy(), svm_y_pred_new)\n",
    "print(\"Hinge Loss on data prediction:\", new_hinge_loss)"
   ]
  }
 ],
 "metadata": {
  "kernelspec": {
   "display_name": "Python 3",
   "language": "python",
   "name": "python3"
  },
  "language_info": {
   "codemirror_mode": {
    "name": "ipython",
    "version": 3
   },
   "file_extension": ".py",
   "mimetype": "text/x-python",
   "name": "python",
   "nbconvert_exporter": "python",
   "pygments_lexer": "ipython3",
   "version": "3.11.3"
  }
 },
 "nbformat": 4,
 "nbformat_minor": 2
}
